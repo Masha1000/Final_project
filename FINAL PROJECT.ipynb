{
 "cells": [
  {
   "cell_type": "markdown",
   "metadata": {},
   "source": [
    "## FINAL PROJECT"
   ]
  },
  {
   "cell_type": "markdown",
   "metadata": {},
   "source": [
    "### **Цель**\n",
    "##### Подготовить основу рекомендательной системы.\n",
    "### **Задачи**\n",
    "##### 1. Познакомиться с датасетом, подготовить и проанализировать данные с помощью SQL.\n",
    "##### 2. Обработать данные средствами Python.\n",
    "##### 3. Составить итоговую таблицу с рекомендациями, снабдив её необходимыми комментариями, и представить отчёт продакт-менеджеру."
   ]
  },
  {
   "cell_type": "markdown",
   "metadata": {},
   "source": [
    "    Изучим данные, полученные из 2-х таблиц:\n",
    "    carts с данными о пользовательских корзинах (дате создания, статусе, id пользователя-владельца и т. д.);\n",
    "    cart items с данными о курсах, которые пользователи добавили в корзину.\n",
    "\n",
    "    Напишем SQL-запрос, чтобы выгрузить данные по всем продажам курсов в разрезе пользователей.\n",
    "\n",
    "With new as\n",
    "(Select \n",
    "user_id,\n",
    "count(distinct resource_id)\n",
    "\n",
    "from final.cart_items i\n",
    "left join final.carts c on c.id = i.cart_id\n",
    "where state = 'successful' and resource_type = 'Course'\n",
    "group by user_id\n",
    "having count(distinct resource_id) > 1)\n",
    "\n",
    "select \n",
    "new.user_id,\n",
    "i.resource_id\n",
    "from new \n",
    "left join final.carts c on new.user_id = c.user_id\n",
    "join final.cart_items i on i.cart_id = c.id\n",
    "WHERE state = 'successful' AND resource_type = 'Course'\n",
    "group by 1, 2\n",
    "order by 1, 2\n",
    "\n",
    "    Подготовили файл с данными по продажам курсов в разрезе пользователей (купивших более одного курса). Выгрузим получившуюся таблицу в csv-файл для дальнейшей работы."
   ]
  },
  {
   "cell_type": "code",
   "execution_count": 1,
   "metadata": {},
   "outputs": [
    {
     "data": {
      "text/html": [
       "<div>\n",
       "<style scoped>\n",
       "    .dataframe tbody tr th:only-of-type {\n",
       "        vertical-align: middle;\n",
       "    }\n",
       "\n",
       "    .dataframe tbody tr th {\n",
       "        vertical-align: top;\n",
       "    }\n",
       "\n",
       "    .dataframe thead th {\n",
       "        text-align: right;\n",
       "    }\n",
       "</style>\n",
       "<table border=\"1\" class=\"dataframe\">\n",
       "  <thead>\n",
       "    <tr style=\"text-align: right;\">\n",
       "      <th></th>\n",
       "      <th>user_id</th>\n",
       "      <th>resource_id</th>\n",
       "    </tr>\n",
       "  </thead>\n",
       "  <tbody>\n",
       "    <tr>\n",
       "      <th>0</th>\n",
       "      <td>51</td>\n",
       "      <td>516</td>\n",
       "    </tr>\n",
       "    <tr>\n",
       "      <th>1</th>\n",
       "      <td>51</td>\n",
       "      <td>1099</td>\n",
       "    </tr>\n",
       "    <tr>\n",
       "      <th>2</th>\n",
       "      <td>6117</td>\n",
       "      <td>356</td>\n",
       "    </tr>\n",
       "    <tr>\n",
       "      <th>3</th>\n",
       "      <td>6117</td>\n",
       "      <td>357</td>\n",
       "    </tr>\n",
       "    <tr>\n",
       "      <th>4</th>\n",
       "      <td>6117</td>\n",
       "      <td>1125</td>\n",
       "    </tr>\n",
       "  </tbody>\n",
       "</table>\n",
       "</div>"
      ],
      "text/plain": [
       "   user_id  resource_id\n",
       "0       51          516\n",
       "1       51         1099\n",
       "2     6117          356\n",
       "3     6117          357\n",
       "4     6117         1125"
      ]
     },
     "execution_count": 1,
     "metadata": {},
     "output_type": "execute_result"
    }
   ],
   "source": [
    "import pandas as pd # Импортируем библиотеки\n",
    "import numpy as np\n",
    "\n",
    "data = pd.read_csv('query_result.csv') # Загрузим данные из подготовленного файла\n",
    "df = data.copy()\n",
    "df.head() # Отобразим получившуюся таблицу"
   ]
  },
  {
   "cell_type": "code",
   "execution_count": 2,
   "metadata": {},
   "outputs": [
    {
     "name": "stdout",
     "output_type": "stream",
     "text": [
      "<class 'pandas.core.frame.DataFrame'>\n",
      "RangeIndex: 34074 entries, 0 to 34073\n",
      "Data columns (total 2 columns):\n",
      " #   Column       Non-Null Count  Dtype\n",
      "---  ------       --------------  -----\n",
      " 0   user_id      34074 non-null  int64\n",
      " 1   resource_id  34074 non-null  int64\n",
      "dtypes: int64(2)\n",
      "memory usage: 532.5 KB\n"
     ]
    }
   ],
   "source": [
    "df.info() # Посмотрим основную информацию о нашей таблице"
   ]
  },
  {
   "cell_type": "code",
   "execution_count": 3,
   "metadata": {},
   "outputs": [
    {
     "data": {
      "text/html": [
       "<div>\n",
       "<style scoped>\n",
       "    .dataframe tbody tr th:only-of-type {\n",
       "        vertical-align: middle;\n",
       "    }\n",
       "\n",
       "    .dataframe tbody tr th {\n",
       "        vertical-align: top;\n",
       "    }\n",
       "\n",
       "    .dataframe thead th {\n",
       "        text-align: right;\n",
       "    }\n",
       "</style>\n",
       "<table border=\"1\" class=\"dataframe\">\n",
       "  <thead>\n",
       "    <tr style=\"text-align: right;\">\n",
       "      <th></th>\n",
       "      <th>user_id</th>\n",
       "      <th>resource_id</th>\n",
       "    </tr>\n",
       "  </thead>\n",
       "  <tbody>\n",
       "    <tr>\n",
       "      <th>0</th>\n",
       "      <td>51</td>\n",
       "      <td>[516, 1099]</td>\n",
       "    </tr>\n",
       "    <tr>\n",
       "      <th>1</th>\n",
       "      <td>6117</td>\n",
       "      <td>[356, 357, 1125]</td>\n",
       "    </tr>\n",
       "    <tr>\n",
       "      <th>2</th>\n",
       "      <td>10275</td>\n",
       "      <td>[553, 1147]</td>\n",
       "    </tr>\n",
       "    <tr>\n",
       "      <th>3</th>\n",
       "      <td>10457</td>\n",
       "      <td>[361, 1138]</td>\n",
       "    </tr>\n",
       "    <tr>\n",
       "      <th>4</th>\n",
       "      <td>17166</td>\n",
       "      <td>[356, 357]</td>\n",
       "    </tr>\n",
       "  </tbody>\n",
       "</table>\n",
       "</div>"
      ],
      "text/plain": [
       "   user_id       resource_id\n",
       "0       51       [516, 1099]\n",
       "1     6117  [356, 357, 1125]\n",
       "2    10275       [553, 1147]\n",
       "3    10457       [361, 1138]\n",
       "4    17166        [356, 357]"
      ]
     },
     "execution_count": 3,
     "metadata": {},
     "output_type": "execute_result"
    }
   ],
   "source": [
    "# Создадим сводную таблицу, в которой отобразим список купленных курсов в разрезе покупателей.\n",
    "resourse_df = df.groupby('user_id')['resource_id'].agg(list).reset_index()\n",
    "resourse_df.head()"
   ]
  },
  {
   "cell_type": "code",
   "execution_count": 4,
   "metadata": {},
   "outputs": [
    {
     "name": "stdout",
     "output_type": "stream",
     "text": [
      "Количество различных пар курсов - 3989\n"
     ]
    }
   ],
   "source": [
    "# По заданию определим сколько различных пар курсов встречаются вместе в покупках клиентов.\n",
    "from itertools import combinations # Выгрузим библиотеку\n",
    "cource = [] # Создадим пустой список для хранения уникальных значений всех возможных пар курсов\n",
    "for i in resourse_df['resource_id']:\n",
    "    for pair_id in combinations(i,2):\n",
    "        cource.append(pair_id)\n",
    "\n",
    "from collections import Counter\n",
    "cources = Counter(cource).most_common()\n",
    "print(\"Количество различных пар курсов -\", len(cources))        \n",
    "\n",
    "# Для дальнейшего анализа преобразуем полученный список в словарь:\n",
    "popular = dict(cources)"
   ]
  },
  {
   "cell_type": "code",
   "execution_count": 15,
   "metadata": {},
   "outputs": [
    {
     "name": "stdout",
     "output_type": "stream",
     "text": [
      "ID курсов в самой популярной паре: (551, 566)\n"
     ]
    }
   ],
   "source": [
    "print('ID курсов в самой популярной паре:', max(popular, key=popular.get))"
   ]
  },
  {
   "cell_type": "code",
   "execution_count": 6,
   "metadata": {},
   "outputs": [],
   "source": [
    "# Составим список продаваемых курсов:\n",
    "uniq_course = []\n",
    "for i in df['resource_id']:\n",
    "    if not(i in uniq_course):\n",
    "        uniq_course.append(i)       "
   ]
  },
  {
   "cell_type": "code",
   "execution_count": 7,
   "metadata": {},
   "outputs": [
    {
     "data": {
      "text/plain": [
       "9.0"
      ]
     },
     "execution_count": 7,
     "metadata": {},
     "output_type": "execute_result"
    }
   ],
   "source": [
    "# По частоте покупок определим малопопулярные курсы, для этого по 75-й квантили установим минимальную границу.\n",
    "pair_purchase = pd.DataFrame(cources, columns=['pair', 'purchase'])\n",
    "pair_purchase_quantile = pair_purchase['purchase'].quantile(0.75)\n",
    "pair_purchase_quantile"
   ]
  },
  {
   "cell_type": "markdown",
   "metadata": {},
   "source": [
    "По полученному результату приходим к тому, что курсы с частотой меньше 9 для заполнения учитывать не будем."
   ]
  },
  {
   "cell_type": "code",
   "execution_count": 8,
   "metadata": {},
   "outputs": [],
   "source": [
    "# Создадим функцию, через которую будем анализировать созданный словарь с парами курсов и частотой покупки этих пар\n",
    "def recommend(pair):\n",
    "    course_list = [] # Содается пустой список\n",
    "    for i in popular.keys(): # Через цикл перебираются ключи словаря list_paires\n",
    "# В случае нахождения значения(пары курсов - частоты продажи), оно добавляется в список в виде: ключ - пара курсов, значение - частота покупки\n",
    "        if i[0] == pair and popular[i] >= pair_purchase_quantile:\n",
    "                course_list.append((i, popular[i]))\n",
    "        if i[1] == pair and popular[i] >= pair_purchase_quantile:\n",
    "                course_list.append((i[::-1], popular[i]))\n",
    "\n",
    "    sort_list = sorted(course_list, key=lambda x: x[1], reverse=True) # Отсортируем частоту продажи по убыванию\n",
    "    return sort_list[:2] # Оставим только два курса\n",
    "\n",
    "# Создаем дата фрейм, в который будут добавляться данные\n",
    "cource_df = pd.DataFrame(columns=['Course', 'first_recommendation', 'second_recommendation'])\n",
    "\n",
    "# Через цикл происходит анализ списка, содержащего перечень уникальных курсов и в дата фрейм добавляется значение анализируемого курса, курса \"первой рекомендации\" \n",
    "# и курса \"второй рекомендации\"\n",
    "\n",
    "for i in uniq_course:\n",
    "    if len(recommend(i)) == 2:\n",
    "        cource_df.loc[i] = [i, recommend(i)[0][0][1], recommend(i)[1][0][1]]\n",
    "    elif len(recommend(i)) == 1:\n",
    "        cource_df.loc[i] = [i, recommend(i)[0][0][1], np.nan]\n",
    "    else:\n",
    "        cource_df.loc[i] = [i, np.nan, np.nan]\n",
    "cource_df = cource_df.sort_values(['Course']).reset_index(drop=True)"
   ]
  },
  {
   "cell_type": "code",
   "execution_count": 9,
   "metadata": {},
   "outputs": [
    {
     "data": {
      "text/html": [
       "<div>\n",
       "<style scoped>\n",
       "    .dataframe tbody tr th:only-of-type {\n",
       "        vertical-align: middle;\n",
       "    }\n",
       "\n",
       "    .dataframe tbody tr th {\n",
       "        vertical-align: top;\n",
       "    }\n",
       "\n",
       "    .dataframe thead th {\n",
       "        text-align: right;\n",
       "    }\n",
       "</style>\n",
       "<table border=\"1\" class=\"dataframe\">\n",
       "  <thead>\n",
       "    <tr style=\"text-align: right;\">\n",
       "      <th></th>\n",
       "      <th>Course</th>\n",
       "      <th>first_recommendation</th>\n",
       "      <th>second_recommendation</th>\n",
       "    </tr>\n",
       "  </thead>\n",
       "  <tbody>\n",
       "    <tr>\n",
       "      <th>0</th>\n",
       "      <td>356.0</td>\n",
       "      <td>571.0</td>\n",
       "      <td>357.0</td>\n",
       "    </tr>\n",
       "    <tr>\n",
       "      <th>1</th>\n",
       "      <td>357.0</td>\n",
       "      <td>571.0</td>\n",
       "      <td>356.0</td>\n",
       "    </tr>\n",
       "    <tr>\n",
       "      <th>2</th>\n",
       "      <td>358.0</td>\n",
       "      <td>570.0</td>\n",
       "      <td>752.0</td>\n",
       "    </tr>\n",
       "    <tr>\n",
       "      <th>3</th>\n",
       "      <td>359.0</td>\n",
       "      <td>570.0</td>\n",
       "      <td>358.0</td>\n",
       "    </tr>\n",
       "    <tr>\n",
       "      <th>4</th>\n",
       "      <td>360.0</td>\n",
       "      <td>745.0</td>\n",
       "      <td>516.0</td>\n",
       "    </tr>\n",
       "  </tbody>\n",
       "</table>\n",
       "</div>"
      ],
      "text/plain": [
       "   Course  first_recommendation  second_recommendation\n",
       "0   356.0                 571.0                  357.0\n",
       "1   357.0                 571.0                  356.0\n",
       "2   358.0                 570.0                  752.0\n",
       "3   359.0                 570.0                  358.0\n",
       "4   360.0                 745.0                  516.0"
      ]
     },
     "execution_count": 9,
     "metadata": {},
     "output_type": "execute_result"
    }
   ],
   "source": [
    "cource_df.head() # Выведем получившуюся таблицу."
   ]
  },
  {
   "cell_type": "markdown",
   "metadata": {},
   "source": [
    "Оставшиеся пропуски в таблице с рекомендациями заполним более новыми курсами с высокой частотой продаж. Новыми курсами будем считать, курсы, у которых номера начинаются с 1100."
   ]
  },
  {
   "cell_type": "code",
   "execution_count": 10,
   "metadata": {},
   "outputs": [
    {
     "data": {
      "text/html": [
       "<div>\n",
       "<style scoped>\n",
       "    .dataframe tbody tr th:only-of-type {\n",
       "        vertical-align: middle;\n",
       "    }\n",
       "\n",
       "    .dataframe tbody tr th {\n",
       "        vertical-align: top;\n",
       "    }\n",
       "\n",
       "    .dataframe thead th {\n",
       "        text-align: right;\n",
       "    }\n",
       "</style>\n",
       "<table border=\"1\" class=\"dataframe\">\n",
       "  <thead>\n",
       "    <tr style=\"text-align: right;\">\n",
       "      <th></th>\n",
       "      <th>resource_id</th>\n",
       "      <th>purchase</th>\n",
       "    </tr>\n",
       "  </thead>\n",
       "  <tbody>\n",
       "    <tr>\n",
       "      <th>30</th>\n",
       "      <td>551</td>\n",
       "      <td>2935</td>\n",
       "    </tr>\n",
       "    <tr>\n",
       "      <th>36</th>\n",
       "      <td>566</td>\n",
       "      <td>2342</td>\n",
       "    </tr>\n",
       "    <tr>\n",
       "      <th>24</th>\n",
       "      <td>515</td>\n",
       "      <td>1311</td>\n",
       "    </tr>\n",
       "    <tr>\n",
       "      <th>13</th>\n",
       "      <td>489</td>\n",
       "      <td>1125</td>\n",
       "    </tr>\n",
       "    <tr>\n",
       "      <th>14</th>\n",
       "      <td>490</td>\n",
       "      <td>1084</td>\n",
       "    </tr>\n",
       "  </tbody>\n",
       "</table>\n",
       "</div>"
      ],
      "text/plain": [
       "    resource_id  purchase\n",
       "30          551      2935\n",
       "36          566      2342\n",
       "24          515      1311\n",
       "13          489      1125\n",
       "14          490      1084"
      ]
     },
     "execution_count": 10,
     "metadata": {},
     "output_type": "execute_result"
    }
   ],
   "source": [
    "# Создадим сводную таблицу по количеству продаж в разрезе курсов:\n",
    "courses_df = df.groupby('resource_id')['user_id'].nunique().reset_index().sort_values('user_id', ascending=False)\n",
    "courses_df.columns = ['resource_id', 'purchase'] # Переименуем столбцы в нашей таблице\n",
    "courses_df.sort_values('purchase') # Отсортируем по убыванию\n",
    "courses_df.head() # Отобразим получившуюся таблицу"
   ]
  },
  {
   "cell_type": "code",
   "execution_count": 11,
   "metadata": {},
   "outputs": [],
   "source": [
    "# Выберем курсы, которые начинаются с 1100 и определим из них самые покупаемые:\n",
    "top = courses_df[courses_df['resource_id'] >= 1100]\n",
    "top_1 = top['resource_id'].iloc[0]\n",
    "top_2 = top['resource_id'].iloc[1]"
   ]
  },
  {
   "cell_type": "code",
   "execution_count": 12,
   "metadata": {},
   "outputs": [],
   "source": [
    "# Заменим пропуски на курсы, которые мы определиили \"топовыми\"\n",
    "cource_df['first_recommendation'] = cource_df['first_recommendation'].fillna(top_1)\n",
    "cource_df['second_recommendation'] = cource_df['second_recommendation'].fillna(top_2)"
   ]
  },
  {
   "cell_type": "code",
   "execution_count": 13,
   "metadata": {},
   "outputs": [
    {
     "data": {
      "text/html": [
       "<div>\n",
       "<style scoped>\n",
       "    .dataframe tbody tr th:only-of-type {\n",
       "        vertical-align: middle;\n",
       "    }\n",
       "\n",
       "    .dataframe tbody tr th {\n",
       "        vertical-align: top;\n",
       "    }\n",
       "\n",
       "    .dataframe thead th {\n",
       "        text-align: right;\n",
       "    }\n",
       "</style>\n",
       "<table border=\"1\" class=\"dataframe\">\n",
       "  <thead>\n",
       "    <tr style=\"text-align: right;\">\n",
       "      <th></th>\n",
       "      <th>Course</th>\n",
       "      <th>first_recommendation</th>\n",
       "      <th>second_recommendation</th>\n",
       "    </tr>\n",
       "  </thead>\n",
       "  <tbody>\n",
       "    <tr>\n",
       "      <th>0</th>\n",
       "      <td>356.0</td>\n",
       "      <td>571.0</td>\n",
       "      <td>357.0</td>\n",
       "    </tr>\n",
       "    <tr>\n",
       "      <th>1</th>\n",
       "      <td>357.0</td>\n",
       "      <td>571.0</td>\n",
       "      <td>356.0</td>\n",
       "    </tr>\n",
       "    <tr>\n",
       "      <th>2</th>\n",
       "      <td>358.0</td>\n",
       "      <td>570.0</td>\n",
       "      <td>752.0</td>\n",
       "    </tr>\n",
       "    <tr>\n",
       "      <th>3</th>\n",
       "      <td>359.0</td>\n",
       "      <td>570.0</td>\n",
       "      <td>358.0</td>\n",
       "    </tr>\n",
       "    <tr>\n",
       "      <th>4</th>\n",
       "      <td>360.0</td>\n",
       "      <td>745.0</td>\n",
       "      <td>516.0</td>\n",
       "    </tr>\n",
       "    <tr>\n",
       "      <th>...</th>\n",
       "      <td>...</td>\n",
       "      <td>...</td>\n",
       "      <td>...</td>\n",
       "    </tr>\n",
       "    <tr>\n",
       "      <th>121</th>\n",
       "      <td>1188.0</td>\n",
       "      <td>1141.0</td>\n",
       "      <td>513.0</td>\n",
       "    </tr>\n",
       "    <tr>\n",
       "      <th>122</th>\n",
       "      <td>1198.0</td>\n",
       "      <td>1103.0</td>\n",
       "      <td>1100.0</td>\n",
       "    </tr>\n",
       "    <tr>\n",
       "      <th>123</th>\n",
       "      <td>1199.0</td>\n",
       "      <td>1103.0</td>\n",
       "      <td>1100.0</td>\n",
       "    </tr>\n",
       "    <tr>\n",
       "      <th>124</th>\n",
       "      <td>1200.0</td>\n",
       "      <td>1103.0</td>\n",
       "      <td>1100.0</td>\n",
       "    </tr>\n",
       "    <tr>\n",
       "      <th>125</th>\n",
       "      <td>1201.0</td>\n",
       "      <td>1103.0</td>\n",
       "      <td>1100.0</td>\n",
       "    </tr>\n",
       "  </tbody>\n",
       "</table>\n",
       "<p>126 rows × 3 columns</p>\n",
       "</div>"
      ],
      "text/plain": [
       "     Course  first_recommendation  second_recommendation\n",
       "0     356.0                 571.0                  357.0\n",
       "1     357.0                 571.0                  356.0\n",
       "2     358.0                 570.0                  752.0\n",
       "3     359.0                 570.0                  358.0\n",
       "4     360.0                 745.0                  516.0\n",
       "..      ...                   ...                    ...\n",
       "121  1188.0                1141.0                  513.0\n",
       "122  1198.0                1103.0                 1100.0\n",
       "123  1199.0                1103.0                 1100.0\n",
       "124  1200.0                1103.0                 1100.0\n",
       "125  1201.0                1103.0                 1100.0\n",
       "\n",
       "[126 rows x 3 columns]"
      ]
     },
     "metadata": {},
     "output_type": "display_data"
    }
   ],
   "source": [
    "# Отобразим нашу итоговую таблицу с рекомендациями к каждому курсу:\n",
    "display(cource_df)"
   ]
  },
  {
   "cell_type": "code",
   "execution_count": 14,
   "metadata": {},
   "outputs": [
    {
     "name": "stdout",
     "output_type": "stream",
     "text": [
      "<class 'pandas.core.frame.DataFrame'>\n",
      "RangeIndex: 126 entries, 0 to 125\n",
      "Data columns (total 3 columns):\n",
      " #   Column                 Non-Null Count  Dtype  \n",
      "---  ------                 --------------  -----  \n",
      " 0   Course                 126 non-null    float64\n",
      " 1   first_recommendation   126 non-null    float64\n",
      " 2   second_recommendation  126 non-null    float64\n",
      "dtypes: float64(3)\n",
      "memory usage: 3.1 KB\n"
     ]
    }
   ],
   "source": [
    "cource_df.info() # Посмотрим информацию по итоговой таблице на наличие пропусков."
   ]
  },
  {
   "cell_type": "markdown",
   "metadata": {},
   "source": [
    " ### В результате проделанной работы получили рекомендательную таблицу, в которой каждому продаваемому курсу рекомендуем дополнительные курсы. Первым рекомендуемым курсом, будет курс, который продавался чаще всего в паре с анализируемым. Вторым рекомендуемым курсом будет второй по продаваемости. Где продаж в паре было не много, чтобы исключить случайные покупки, решили рекомендовать новые курсы с наибольшим количество продаж."
   ]
  }
 ],
 "metadata": {
  "kernelspec": {
   "display_name": "Python 3.9.7 64-bit",
   "language": "python",
   "name": "python3"
  },
  "language_info": {
   "codemirror_mode": {
    "name": "ipython",
    "version": 3
   },
   "file_extension": ".py",
   "mimetype": "text/x-python",
   "name": "python",
   "nbconvert_exporter": "python",
   "pygments_lexer": "ipython3",
   "version": "3.9.7"
  },
  "orig_nbformat": 4,
  "vscode": {
   "interpreter": {
    "hash": "dd30dd3e88d11e2c5c8ec7e911289ef1000d11f7926f8d25b9dddd4af71e552d"
   }
  }
 },
 "nbformat": 4,
 "nbformat_minor": 2
}
